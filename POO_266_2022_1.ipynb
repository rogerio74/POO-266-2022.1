{
  "nbformat": 4,
  "nbformat_minor": 0,
  "metadata": {
    "colab": {
      "name": "POO-266-2022-1.ipynb",
      "provenance": [],
      "mount_file_id": "19VxmdiQtov0sLuLKfxme0O2E78GUkOCh",
      "authorship_tag": "ABX9TyMwVbBeRWjlbqB3oPdfbTkB",
      "include_colab_link": true
    },
    "kernelspec": {
      "name": "python3",
      "display_name": "Python 3"
    },
    "language_info": {
      "name": "python"
    }
  },
  "cells": [
    {
      "cell_type": "markdown",
      "metadata": {
        "id": "view-in-github",
        "colab_type": "text"
      },
      "source": [
        "<a href=\"https://colab.research.google.com/github/rogerio74/POO-266-2022.1/blob/main/POO_266_2022_1.ipynb\" target=\"_parent\"><img src=\"https://colab.research.google.com/assets/colab-badge.svg\" alt=\"Open In Colab\"/></a>"
      ]
    },
    {
      "cell_type": "code",
      "execution_count": null,
      "metadata": {
        "id": "Be22PR047y9i"
      },
      "outputs": [],
      "source": [
        ""
      ]
    },
    {
      "cell_type": "markdown",
      "source": [
        "LISTA DE EXERCÍCIOS (Postagens 1 e 2) \n",
        "1. Utilizando a linguagem python, implemente a classe carro de acordo com as especificações passadas na videoaula. \n",
        "\n",
        " Métodos: \n",
        "\n",
        "ligar() : este método deverá mudar o estado do carro para: “ligado” e imprimir este estado. \n",
        "\n",
        "Desligar(): este método deverá mudar o estado do carro para: “desligado” e o carro deve parar, para isto você deverá chamar o método parar(). Imprimir o estado do carro.\n",
        "\n",
        "Parar(): este método deverá mudar a velocidade atual do carro para 0 (zero). Imprimir a mensagem: “carro parado”. \n",
        "\n",
        "Acelerar(valor): este método deverá mudar a velocidade atual do carro para o valor que está no parâmetro. O carro só pode acelerar se ele estiver ligado (fazer a condição). Fazer a condição para que a velocidade atual não ultrapasse a velocidade máxima do carro. Imprimir a velocidade atual do carro. \n",
        "\n",
        "Crie 2 objetos do tipo carro. \n",
        "O primeiro objeto tem os seguintes valores:\n",
        "\n",
        "i. nome: fusca \n",
        "\n",
        "ii. Ano: 1965 \n",
        "\n",
        "iii. Cor: Preto \n",
        "\n",
        "iv. Veloc_max: 80 \n",
        "\n",
        "v. Veloc_.atual:20 \n",
        "\n",
        "vi. Estado: ligado \n",
        "\n",
        "\n",
        "O segundo objeto tem os seguintes valores: \n",
        "\n",
        "\n",
        "I. Nome: Ferrari_sr2000 \n",
        "\n",
        "II. Ano: 2014 \n",
        "\n",
        "III. Cor: vermelho \n",
        "\n",
        "IV. Veloc.max: 300 \n",
        "\n",
        "V. Veloc.atual: 0 \n",
        "\n",
        "VI. Estado: desligado \n",
        "\n",
        "\n",
        "\n",
        "Execute os objetos, invocando os métodos necessários de acordo como que se pede: \n",
        "\n",
        "a) Acelere o fusca para a velocidade: 40 \n",
        "\n",
        "b) Acelere a ferrari para a velocidade: 200 \n",
        "\n",
        "c) Desligue o fusca \n",
        "\n",
        "d) Ligue a ferrari \n",
        "\n",
        "e) acelere a ferrari para: 320 \n",
        "\n",
        "f) Pare a ferrari. \n",
        "\n",
        "g) Desligue a ferrari \n",
        "\n",
        "h) Ligue o fusca \n",
        "\n",
        "i) Acelere o fusca para: 100 \n",
        "\n",
        "j) Desligue o fusca\n"
      ],
      "metadata": {
        "id": "6UdKJZRM76nd"
      }
    },
    {
      "cell_type": "code",
      "source": [
        "class Carro:\n",
        "  nome = None\n",
        "  ano = None\n",
        "  cor = None\n",
        "  veloc_max = None\n",
        "  veloc_atual = 0\n",
        "  estado = \"desligado\"\n",
        "\n",
        "  def ligar(self):\n",
        "     self.estado = \"ligado\"\n",
        "     print(f'Carro {self.nome} : {self.estado}')\n",
        "  \n",
        "  def desligar(self):\n",
        "    self.estado = \"desligado\"\n",
        "    self.parar()\n",
        "    print(f'Carro {self.nome}: {self.estado}')\n",
        "\n",
        "\n",
        "  def parar(self):\n",
        "    self.veloc_atual = 0\n",
        "    print (\"Carro parado\")\n",
        "  \n",
        "  def acelerar(self,valor):\n",
        "    if self.estado == \"ligado\":\n",
        "      if valor >= self.veloc_max:\n",
        "           self.veloc_atual = self.veloc_max\n",
        "      else:\n",
        "           self.veloc_atual = valor\n",
        "    print(f'velocidade atual do carro {self.nome}: {self.veloc_atual}')\n",
        "\n",
        "\n",
        "\n",
        "\n",
        "  "
      ],
      "metadata": {
        "id": "I88D5L_2BlJK"
      },
      "execution_count": null,
      "outputs": []
    },
    {
      "cell_type": "code",
      "source": [
        "fusca = Carro()\n",
        "fusca.nome = \"fusca\"\n",
        "fusca.ano = 1965\n",
        "fusca.cor = \"Preto\"\n",
        "fusca.veloc_max = 80\n",
        "fusca.ligar()\n",
        "fusca.acelerar(20)\n",
        "\n",
        "Ferrari_sr2000 = Carro()\n",
        "Ferrari_sr2000.nome = \"Ferrari\"\n",
        "Ferrari_sr2000.ano = 2014\n",
        "Ferrari_sr2000.cor = \"vermelho\"\n",
        "Ferrari_sr2000.veloc_max=300\n",
        "\n",
        "fusca.acelerar(40)\n",
        "Ferrari_sr2000.acelerar(200)\n",
        "fusca.desligar()\n",
        "Ferrari_sr2000.ligar()\n",
        "Ferrari_sr2000.acelerar(320)\n",
        "Ferrari_sr2000.parar()\n",
        "Ferrari_sr2000.desligar()\n",
        "fusca.ligar()\n",
        "fusca.acelerar(100)\n",
        "fusca.desligar()\n",
        "\n"
      ],
      "metadata": {
        "colab": {
          "base_uri": "https://localhost:8080/"
        },
        "id": "pO8gDLQ5J0il",
        "outputId": "4660085c-c70d-4ad2-b1cb-a0330f310a8f"
      },
      "execution_count": null,
      "outputs": [
        {
          "output_type": "stream",
          "name": "stdout",
          "text": [
            "Carro fusca : ligado\n",
            "velocidade atual do carro fusca: 20\n",
            "velocidade atual do carro fusca: 40\n",
            "velocidade atual do carro Ferrari: 0\n",
            "Carro parado\n",
            "Carro fusca: desligado\n",
            "Carro Ferrari : ligado\n",
            "velocidade atual do carro Ferrari: 300\n",
            "Carro parado\n",
            "Carro parado\n",
            "Carro Ferrari: desligado\n",
            "Carro fusca : ligado\n",
            "velocidade atual do carro fusca: 80\n",
            "Carro parado\n",
            "Carro fusca: desligado\n"
          ]
        }
      ]
    },
    {
      "cell_type": "markdown",
      "source": [
        ""
      ],
      "metadata": {
        "id": "JkDem1sgKakl"
      }
    }
  ]
}